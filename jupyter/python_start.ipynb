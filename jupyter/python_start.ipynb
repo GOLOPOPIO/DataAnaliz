{
 "cells": [
  {
   "cell_type": "markdown",
   "metadata": {},
   "source": [
    "# Основные понятия"
   ]
  },
  {
   "cell_type": "markdown",
   "metadata": {},
   "source": [
    "#### Полезные ссылочки\n",
    "\n",
    "\n"
   ]
  },
  {
   "cell_type": "markdown",
   "metadata": {},
   "source": [
    "Почитать\n",
    "\n",
    "[Грокаем алгоритмы](https://drive.google.com/file/d/18mf3Gwnfz_6ppKBoaI-DBKldWoJcEESq/view?usp=sharing)\\\n",
    "[Мат. введение в информатику](https://drive.google.com/file/d/1G_h5i93ziUxP_KNRTngRo1Q0gAtEyI2g/view?usp=sharing)"
   ]
  },
  {
   "cell_type": "markdown",
   "metadata": {},
   "source": [
    "Почитать\n",
    "\n",
    "[!!! Учебные материалы по инфе !!!](https://wiki.livid.pp.ru/students/index.html)\\\n",
    "[База для прогеров Metanit](https://metanit.com/python/tutorial/)\\\n",
    "[Готовые элементы](https://metanit.com/python/recipes/)\\\n",
    "[Питон и базы данных](https://metanit.com/python/database/)\\\n",
    "[Легкий и быстрый учебник](https://pymanual.github.io/)\\\n",
    "[Самоучитель](https://pythonworld.ru/samouchitel-python)"
   ]
  },
  {
   "cell_type": "markdown",
   "metadata": {},
   "source": [
    "Видосики\n",
    "\n",
    "[tech-in](https://www.youtube.com/playlist?list=PLcsjsqLLSfND6vNUS4b13dHJHOxLm0nv5)\\\n",
    "[В ообщем про ООП](https://www.youtube.com/watch?v=-6DWwR_R4Xk&ab_channel=UlbiTV)\\\n",
    "[Алгоритмы на питоне МФТИ](https://www.youtube.com/playlist?list=PLRDzFCPr95fK7tr47883DFUbm4GeOjjc0) **Вообще алгоритмы и структуры данных это очень важная база для всего IT**\\\n",
    "[Практика по Питону](https://www.youtube.com/playlist?list=PLRDzFCPr95fIDJUvFxvzWxg-V9BmZlMMe)"
   ]
  },
  {
   "cell_type": "code",
   "execution_count": null,
   "metadata": {},
   "outputs": [],
   "source": []
  },
  {
   "cell_type": "markdown",
   "metadata": {},
   "source": [
    "#### Переменные"
   ]
  },
  {
   "cell_type": "code",
   "execution_count": null,
   "metadata": {},
   "outputs": [],
   "source": [
    "var = 'Some Text'\n",
    "var = 34\n",
    "var = '55'"
   ]
  },
  {
   "cell_type": "markdown",
   "metadata": {},
   "source": [
    "---"
   ]
  },
  {
   "cell_type": "code",
   "execution_count": null,
   "metadata": {},
   "outputs": [],
   "source": [
    "var = input()\n",
    "print(var)\n",
    "var = int(input())\n",
    "print(var)"
   ]
  },
  {
   "cell_type": "markdown",
   "metadata": {},
   "source": [
    "---"
   ]
  },
  {
   "cell_type": "code",
   "execution_count": null,
   "metadata": {},
   "outputs": [],
   "source": [
    "type(var)"
   ]
  },
  {
   "cell_type": "markdown",
   "metadata": {},
   "source": [
    "---"
   ]
  },
  {
   "cell_type": "code",
   "execution_count": null,
   "metadata": {},
   "outputs": [],
   "source": [
    "type(int(var))"
   ]
  },
  {
   "cell_type": "markdown",
   "metadata": {},
   "source": [
    "---"
   ]
  },
  {
   "cell_type": "code",
   "execution_count": 9,
   "metadata": {},
   "outputs": [
    {
     "name": "stdout",
     "output_type": "stream",
     "text": [
      "fug\n",
      "('Dasha', 777, 5)\n"
     ]
    }
   ],
   "source": [
    "def FUG():\n",
    "    return 'fug'\n",
    "\n",
    "var = {\n",
    "    'name': \"Dasha\",\n",
    "    'age':  777,\n",
    "    'id': 5,\n",
    "    'fug': FUG\n",
    "}\n",
    "print(var['fug']())\n",
    "\n",
    "var = ('Dasha', 777, 5)\n",
    "\n",
    "print(var)"
   ]
  },
  {
   "cell_type": "markdown",
   "metadata": {},
   "source": [
    "---"
   ]
  },
  {
   "cell_type": "markdown",
   "metadata": {},
   "source": [
    "#### Циклы"
   ]
  },
  {
   "cell_type": "code",
   "execution_count": null,
   "metadata": {},
   "outputs": [],
   "source": [
    "while False:\n",
    "    pass"
   ]
  },
  {
   "cell_type": "markdown",
   "metadata": {},
   "source": [
    "---"
   ]
  },
  {
   "cell_type": "code",
   "execution_count": null,
   "metadata": {},
   "outputs": [],
   "source": [
    "some_colection = [1, 2, 9, 'text', 85, 96]\n",
    "\n",
    "for iterator in some_colection:\n",
    "    print(iterator)"
   ]
  },
  {
   "cell_type": "markdown",
   "metadata": {},
   "source": [
    "---"
   ]
  },
  {
   "cell_type": "code",
   "execution_count": null,
   "metadata": {},
   "outputs": [],
   "source": [
    "for iterator in some_colection:\n",
    "    print(type(iterator))\n",
    "    \n",
    "    if type(iterator) is str:\n",
    "        print(\"continue\")\n",
    "        continue \n",
    "    \n",
    "    print(iterator)"
   ]
  },
  {
   "cell_type": "markdown",
   "metadata": {},
   "source": [
    "---"
   ]
  },
  {
   "cell_type": "code",
   "execution_count": null,
   "metadata": {},
   "outputs": [],
   "source": [
    "for iterator in some_colection:\n",
    "    print(type(iterator))\n",
    "    \n",
    "    if type(iterator) is str:\n",
    "        print(\"break\")\n",
    "        break \n",
    "    \n",
    "    print(iterator)"
   ]
  },
  {
   "cell_type": "markdown",
   "metadata": {},
   "source": [
    "---"
   ]
  },
  {
   "cell_type": "code",
   "execution_count": null,
   "metadata": {},
   "outputs": [],
   "source": [
    "for iterator in range(5):\n",
    "    print(iterator)"
   ]
  },
  {
   "cell_type": "markdown",
   "metadata": {},
   "source": [
    "---"
   ]
  },
  {
   "cell_type": "code",
   "execution_count": null,
   "metadata": {},
   "outputs": [],
   "source": [
    "for iterator in range(2,7):\n",
    "    print(iterator)"
   ]
  },
  {
   "cell_type": "markdown",
   "metadata": {},
   "source": [
    "---"
   ]
  },
  {
   "cell_type": "code",
   "execution_count": null,
   "metadata": {},
   "outputs": [],
   "source": [
    "start = 7\n",
    "end = 11\n",
    "iterable = range(start, end)\n",
    "\n",
    "for iterator in iterable:\n",
    "    print(iterator)"
   ]
  },
  {
   "cell_type": "markdown",
   "metadata": {},
   "source": [
    "---"
   ]
  },
  {
   "cell_type": "markdown",
   "metadata": {},
   "source": [
    "#### Строки"
   ]
  },
  {
   "cell_type": "code",
   "execution_count": 1,
   "metadata": {},
   "outputs": [
    {
     "name": "stdout",
     "output_type": "stream",
     "text": [
      "some string\n",
      "\n",
      "Some\n",
      "big\n",
      "string\n",
      "\n",
      "some big string to\n"
     ]
    }
   ],
   "source": [
    "string = \"some string\"\n",
    "print(string)\n",
    "\n",
    "string = \"\"\"\\nSome\n",
    "big\n",
    "string\\n\"\"\"\n",
    "print(string)\n",
    "\n",
    "string = (\"some big \" \n",
    "          \"string to\")\n",
    "print(string)"
   ]
  },
  {
   "cell_type": "markdown",
   "metadata": {},
   "source": [
    "---"
   ]
  },
  {
   "cell_type": "code",
   "execution_count": null,
   "metadata": {},
   "outputs": [],
   "source": [
    "userName = \"Tom\"\n",
    "userAge = 37\n",
    "user = f\"name: {userName}  age: {userAge}\"\n",
    "print(user)   # name: Tom  age: 37"
   ]
  },
  {
   "cell_type": "markdown",
   "metadata": {},
   "source": [
    "##### Управляющие последовательности (Специальные символы)"
   ]
  },
  {
   "cell_type": "markdown",
   "metadata": {},
   "source": [
    "|Обозночение|описание|\n",
    "|-|-|\n",
    "|\\n|Перевод строки|\n",
    "|\\a|Звуковой сигнал|\n",
    "|\\b|Эмуляция Backspace|\n",
    "|\\f|Перевод формата|\n",
    "|\\r|Возврат коретки|\n",
    "|\\t|Табуляция|\n",
    "|\\v|Вертикальная табуляция|\n",
    "|\\O|Символ Null|\n",
    "|\\xhh|Символ с 16-ричным кодом hh|\n",
    "|\\ooo|Символ с 8-ричным кодом ооо|\n",
    "|\\N{id}|Символ из таблицы Unicode|"
   ]
  },
  {
   "cell_type": "code",
   "execution_count": null,
   "metadata": {},
   "outputs": [],
   "source": [
    "string = (\"переход на новую строку \\\\n\" '\\n'\n",
    "          'Табуляция \\\\t\\t' '4 пробела\\n'\n",
    "          'Чтобы вернуться в начало строки' '\\rнужно \\\\r -- \\n'#в консоли он начнет писать поверх других символов если они есть \n",
    "          \"\\\\ экранирует специальные символы чтоб их можно было вывести в консоль\")\n",
    "\n",
    "print(string)"
   ]
  },
  {
   "cell_type": "markdown",
   "metadata": {},
   "source": [
    "---\n",
    "<br>\n",
    "Символ \"r\" перед строкой означает что в этой строке не будут применятся спец символы (будетт использован ее сырой формат)"
   ]
  },
  {
   "cell_type": "code",
   "execution_count": null,
   "metadata": {},
   "outputs": [],
   "source": [
    "print('some \\n text\\n')\n",
    "print(r'some \\n text\\n')"
   ]
  },
  {
   "cell_type": "markdown",
   "metadata": {},
   "source": [
    "---\n",
    "\n"
   ]
  },
  {
   "cell_type": "code",
   "execution_count": null,
   "metadata": {},
   "outputs": [],
   "source": [
    "path = \"C:\\folder\\non_real_file.txt\"\n",
    "print(path)\n",
    "path = r\"C:\\folder\\non_real_file.txt\"\n",
    "print(path)"
   ]
  },
  {
   "cell_type": "markdown",
   "metadata": {},
   "source": [
    "---"
   ]
  },
  {
   "cell_type": "markdown",
   "metadata": {},
   "source": [
    "##### Поиск в строке"
   ]
  },
  {
   "cell_type": "code",
   "execution_count": null,
   "metadata": {
    "vscode": {
     "languageId": "javascript"
    }
   },
   "outputs": [],
   "source": []
  }
 ],
 "metadata": {
  "kernelspec": {
   "display_name": "base",
   "language": "python",
   "name": "python3"
  },
  "language_info": {
   "codemirror_mode": {
    "name": "ipython",
    "version": 3
   },
   "file_extension": ".py",
   "mimetype": "text/x-python",
   "name": "python",
   "nbconvert_exporter": "python",
   "pygments_lexer": "ipython3",
   "version": "3.12.4"
  }
 },
 "nbformat": 4,
 "nbformat_minor": 2
}
