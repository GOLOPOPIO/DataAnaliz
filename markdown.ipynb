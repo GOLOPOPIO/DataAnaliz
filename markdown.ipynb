{
 "cells": [
  {
   "cell_type": "markdown",
   "metadata": {},
   "source": [
    "# \"#\" Заголовок\n",
    "## \"##\" Заголовок\n",
    "### \"###\" Заголовок\n",
    "#### \"####\" Заголовок\n",
    "##### \"#####\" Заголовок\n",
    "###### \"######\" Заголовок"
   ]
  },
  {
   "cell_type": "markdown",
   "metadata": {},
   "source": [
    " **\"**Жирный текст**\"**"
   ]
  },
  {
   "cell_type": "markdown",
   "metadata": {},
   "source": [
    "*\"*Курсив*\"*\n"
   ]
  },
  {
   "cell_type": "markdown",
   "metadata": {},
   "source": [
    "**Список с точкой**\n",
    "\n",
    "- Пункт 1\n",
    "- Пункт 2\n",
    "- Пункт 3"
   ]
  },
  {
   "cell_type": "markdown",
   "metadata": {},
   "source": [
    "= Заголовок 1\n",
    "=\n",
    "-Заголовок 2\n",
    "-\n"
   ]
  },
  {
   "cell_type": "markdown",
   "metadata": {},
   "source": [
    "**Нумерованный текст**\n",
    "\n",
    "1. Пункт 1\n",
    "2. Пункт 2\n",
    "3. Пункт 3"
   ]
  },
  {
   "cell_type": "markdown",
   "metadata": {},
   "source": [
    "> Блок Цитаты<br>Жопен\n"
   ]
  },
  {
   "cell_type": "markdown",
   "metadata": {},
   "source": [
    "`Код C#`\n",
    "```C#\n",
    "//Блок кода\n",
    "Console.WriteLine(\"FU\");\n",
    "```"
   ]
  },
  {
   "cell_type": "markdown",
   "metadata": {},
   "source": [
    "### URL"
   ]
  },
  {
   "cell_type": "markdown",
   "metadata": {},
   "source": [
    "* Строчный<br>\n",
    "[ссылка](https://doka.guide/tools/markdown/) <br>\n",
    "\\[Текст\\]\\(Ссылка\\)\n",
    "---\n",
    "* Автоматические<br> \n",
    "https://doka.guide/tools/markdown/"
   ]
  },
  {
   "cell_type": "markdown",
   "metadata": {},
   "source": [
    "|Номер|Имя|еще чтото|\n",
    "|-|-|-|\n",
    "|14|Имя|8646|"
   ]
  }
 ],
 "metadata": {
  "kernelspec": {
   "display_name": "base",
   "language": "python",
   "name": "python3"
  },
  "language_info": {
   "name": "python",
   "version": "3.12.4"
  }
 },
 "nbformat": 4,
 "nbformat_minor": 2
}
